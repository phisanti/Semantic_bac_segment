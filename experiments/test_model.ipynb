{
 "cells": [
  {
   "cell_type": "code",
   "execution_count": 1,
   "metadata": {},
   "outputs": [],
   "source": [
    "import sys\n",
    "sys.path.append(\"../src\")\n",
    "import tifffile\n",
    "import torch\n",
    "import numpy as np\n",
    "from itertools import product\n",
    "from pathlib import Path\n",
    "from typing import Tuple, List\n",
    "from skimage.util import view_as_windows\n",
    "from semantic_bac_segment.pre_processing import ImageAdapter\n",
    "from semantic_bac_segment.models.pytorch_altmodel import UNET\n",
    "from semantic_bac_segment.segmentator import Segmentator, Segmentator2\n",
    "from semantic_bac_segment.utils import normalize_percentile, get_device, empty_gpu_cache\n"
   ]
  },
  {
   "cell_type": "code",
   "execution_count": 2,
   "metadata": {},
   "outputs": [],
   "source": [
    "\n",
    "img = tifffile.imread('../data/train/source_norm/mabs_img_1.tif')\n"
   ]
  },
  {
   "cell_type": "code",
   "execution_count": 59,
   "metadata": {},
   "outputs": [],
   "source": [
    "\n",
    "model_path = \"../data/models/state_weights/unet_model_test_2_best_model.pth\"\n",
    "bac_seg_monai=Segmentator2(model_path, UNET(), patch_size=128, overlap_ratio=0.0, half_precision=True)\n"
   ]
  },
  {
   "cell_type": "code",
   "execution_count": 60,
   "metadata": {},
   "outputs": [],
   "source": [
    "output=bac_seg_monai.predict(img)"
   ]
  },
  {
   "cell_type": "code",
   "execution_count": 61,
   "metadata": {},
   "outputs": [],
   "source": [
    "def sigmoid(z):\n",
    "    \"\"\"Sigmoid function for numpy arrays\"\"\"\n",
    "    return 1 / (1 + np.exp(-z))\n",
    "tifffile.imshow(np.power(sigmoid(output), 0.5))"
   ]
  },
  {
   "cell_type": "code",
   "execution_count": 50,
   "metadata": {},
   "outputs": [],
   "source": [
    "model_path = \"../data/models/state_weights/unet_model_test_2_best_model.pth\"\n",
    "bac_seg=Segmentator(model_path, UNET(), patch_size=128, overlap_ratio=0.0, half_precision=True)\n"
   ]
  },
  {
   "cell_type": "code",
   "execution_count": 51,
   "metadata": {},
   "outputs": [],
   "source": [
    "output=bac_seg.predict(img)\n",
    "tifffile.imshow(np.power(output, 0.5))"
   ]
  }
 ],
 "metadata": {
  "kernelspec": {
   "display_name": "DeepLearning",
   "language": "python",
   "name": "python3"
  },
  "language_info": {
   "codemirror_mode": {
    "name": "ipython",
    "version": 3
   },
   "file_extension": ".py",
   "mimetype": "text/x-python",
   "name": "python",
   "nbconvert_exporter": "python",
   "pygments_lexer": "ipython3",
   "version": "3.9.19"
  }
 },
 "nbformat": 4,
 "nbformat_minor": 2
}
